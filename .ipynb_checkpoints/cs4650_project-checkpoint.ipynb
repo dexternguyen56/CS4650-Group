{
 "cells": [
  {
   "cell_type": "code",
   "execution_count": 313,
   "metadata": {},
   "outputs": [],
   "source": [
    "%matplotlib inline\n",
    "import pandas as pd\n",
    "import numpy as np\n",
    "import matplotlib.pyplot as plt\n",
    "from math import exp\n",
    "from sklearn.model_selection import train_test_split\n",
    "from sklearn.linear_model import LogisticRegression\n",
    "from sklearn.preprocessing import scale\n",
    "from sklearn import preprocessing\n",
    "from sklearn.metrics import accuracy_score, classification_report, confusion_matrix, precision_recall_curve\n",
    "import seaborn as sns\n",
    "from scipy.stats import ttest_ind\n",
    "import matplotlib.colors as mcolors"
   ]
  },
  {
   "cell_type": "markdown",
   "metadata": {},
   "source": [
    "<h2>Data Preparation</h2>"
   ]
  },
  {
   "cell_type": "code",
   "execution_count": 314,
   "metadata": {},
   "outputs": [
    {
     "name": "stdout",
     "output_type": "stream",
     "text": [
      "<class 'pandas.core.frame.DataFrame'>\n",
      "RangeIndex: 891 entries, 0 to 890\n",
      "Data columns (total 12 columns):\n",
      " #   Column       Non-Null Count  Dtype  \n",
      "---  ------       --------------  -----  \n",
      " 0   PassengerId  891 non-null    int64  \n",
      " 1   Survived     891 non-null    int64  \n",
      " 2   Pclass       891 non-null    int64  \n",
      " 3   Name         891 non-null    object \n",
      " 4   Sex          891 non-null    object \n",
      " 5   Age          714 non-null    float64\n",
      " 6   SibSp        891 non-null    int64  \n",
      " 7   Parch        891 non-null    int64  \n",
      " 8   Ticket       891 non-null    object \n",
      " 9   Fare         891 non-null    float64\n",
      " 10  Cabin        204 non-null    object \n",
      " 11  Embarked     889 non-null    object \n",
      "dtypes: float64(2), int64(5), object(5)\n",
      "memory usage: 83.7+ KB\n",
      "<class 'pandas.core.frame.DataFrame'>\n",
      "RangeIndex: 418 entries, 0 to 417\n",
      "Data columns (total 11 columns):\n",
      " #   Column       Non-Null Count  Dtype  \n",
      "---  ------       --------------  -----  \n",
      " 0   PassengerId  418 non-null    int64  \n",
      " 1   Pclass       418 non-null    int64  \n",
      " 2   Name         418 non-null    object \n",
      " 3   Sex          418 non-null    object \n",
      " 4   Age          332 non-null    float64\n",
      " 5   SibSp        418 non-null    int64  \n",
      " 6   Parch        418 non-null    int64  \n",
      " 7   Ticket       418 non-null    object \n",
      " 8   Fare         417 non-null    float64\n",
      " 9   Cabin        91 non-null     object \n",
      " 10  Embarked     418 non-null    object \n",
      "dtypes: float64(2), int64(4), object(5)\n",
      "memory usage: 36.0+ KB\n"
     ]
    }
   ],
   "source": [
    "df = pd.read_csv('train.csv')\n",
    "df_test = pd.read_csv('test.csv')\n",
    "df.info()\n",
    "df_test.info()"
   ]
  },
  {
   "cell_type": "code",
   "execution_count": 315,
   "metadata": {},
   "outputs": [
    {
     "data": {
      "text/plain": [
       "0"
      ]
     },
     "execution_count": 315,
     "metadata": {},
     "output_type": "execute_result"
    }
   ],
   "source": [
    "sum(df.duplicated())\n",
    "sum(df_test.duplicated())"
   ]
  },
  {
   "cell_type": "markdown",
   "metadata": {},
   "source": [
    "Remove unwanted features: <br>\n",
    "<ul>\n",
    "    <li>Name (irrelevant to survival rate)</li>\n",
    "    <li>Ticket Number (irrelevant to survival rate)</li>\n",
    "    <li>Cabin Number (too many missing data)</li>\n",
    "    <li>PassengerId (only for indexing purposes)</li>\n",
    "</ul>"
   ]
  },
  {
   "cell_type": "code",
   "execution_count": 316,
   "metadata": {},
   "outputs": [],
   "source": [
    "df.drop('Name', axis = 1, inplace = True)\n",
    "df.drop('Cabin', axis = 1, inplace = True)\n",
    "df.drop('Ticket', axis = 1, inplace = True)"
   ]
  },
  {
   "cell_type": "code",
   "execution_count": 317,
   "metadata": {},
   "outputs": [],
   "source": [
    "df_test.drop('Name', axis = 1, inplace = True)\n",
    "df_test.drop('Cabin', axis = 1, inplace = True)\n",
    "df_test.drop('Ticket', axis = 1, inplace = True)"
   ]
  },
  {
   "cell_type": "markdown",
   "metadata": {},
   "source": [
    "Remove all rows with blank/ missing data from both dataframe"
   ]
  },
  {
   "cell_type": "code",
   "execution_count": 329,
   "metadata": {},
   "outputs": [
    {
     "name": "stdout",
     "output_type": "stream",
     "text": [
      "There is no NaN values\n",
      "There is no NaN values\n"
     ]
    }
   ],
   "source": [
    "mean_age_train = df['Age'].mean()\n",
    "mean_age_test = df['Age'].mean()\n",
    "\n",
    "#fill missing age with mean\n",
    "df.fillna(mean_age_train, inplace=True)\n",
    "df_test.fillna(mean_age_test, inplace=True)\n",
    "\n",
    "#check for any rows with missing data\n",
    "if df.isnull().sum().sum() == 0:\n",
    "    print(\"There is no NaN values\")\n",
    "else:\n",
    "    print(\"There is NaN values\")\n",
    "    \n",
    "if df_test.isnull().sum().sum() == 0:\n",
    "    print(\"There is no NaN values\")\n",
    "else:\n",
    "    print(\"There is NaN values\")"
   ]
  },
  {
   "cell_type": "markdown",
   "metadata": {},
   "source": [
    "Replace \"Sex\" and \"Embarked\" values to integer values"
   ]
  },
  {
   "cell_type": "code",
   "execution_count": 330,
   "metadata": {},
   "outputs": [],
   "source": [
    "df['Sex'] = df['Sex'].replace({'male': 0, 'female': 1})\n",
    "df['Embarked']= df['Embarked'].replace({'C': 0, 'Q': 1, 'S': 2})\n",
    "\n",
    "df_test['Sex'] = df_test['Sex'].replace({'male': 0, 'female': 1})\n",
    "df_test['Embarked']= df_test['Embarked'].replace({'C': 0, 'Q': 1, 'S': 2})"
   ]
  },
  {
   "cell_type": "code",
   "execution_count": 331,
   "metadata": {},
   "outputs": [],
   "source": [
    "y_train = df.Survived;\n",
    "X_train = df.iloc[:, df.columns != 'Survived']\n",
    "X_test = df_test\n",
    "\n",
    "X_train.drop('PassengerId', axis = 1)\n",
    "X_test.drop('PassengerId', axis = 1)\n",
    "\n",
    "scaler = preprocessing.StandardScaler().fit(X_train)\n",
    "X_train_scaled = pd.DataFrame(scaler.transform(X_train), columns = X_train.columns)\n",
    "X_test_scaled = pd.DataFrame(scaler.transform(X_test), columns = X_test.columns)"
   ]
  },
  {
   "cell_type": "markdown",
   "metadata": {},
   "source": [
    "<h2>Building the Model, Training, and Prediction</h2>"
   ]
  },
  {
   "cell_type": "code",
   "execution_count": 332,
   "metadata": {},
   "outputs": [
    {
     "name": "stdout",
     "output_type": "stream",
     "text": [
      "The accuracy for the training set is 80.06%\n"
     ]
    }
   ],
   "source": [
    "model = LogisticRegression();\n",
    "model.fit(X_train_scaled, y_train)\n",
    "\n",
    "train_accuracy = model.score(X_train_scaled, y_train)\n",
    "print(f'The accuracy for the training set is {100 * train_accuracy:.2f}%')"
   ]
  },
  {
   "cell_type": "code",
   "execution_count": 333,
   "metadata": {},
   "outputs": [
    {
     "data": {
      "text/plain": [
       "array([[0.8953, 0.1047],\n",
       "       [0.6457, 0.3543],\n",
       "       [0.8925, 0.1075],\n",
       "       [0.8807, 0.1193],\n",
       "       [0.4009, 0.5991],\n",
       "       [0.8098, 0.1902],\n",
       "       [0.3467, 0.6533],\n",
       "       [0.7575, 0.2425],\n",
       "       [0.2121, 0.7879],\n",
       "       [0.9168, 0.0832],\n",
       "       [0.7023, 0.2977],\n",
       "       [0.5977, 0.4023],\n",
       "       [0.0514, 0.9486],\n",
       "       [0.9335, 0.0665],\n",
       "       [0.1338, 0.8662],\n",
       "       [0.1255, 0.8745],\n",
       "       [0.7245, 0.2755],\n",
       "       [0.802 , 0.198 ],\n",
       "       [0.4374, 0.5626],\n",
       "       [0.456 , 0.544 ]])"
      ]
     },
     "execution_count": 333,
     "metadata": {},
     "output_type": "execute_result"
    }
   ],
   "source": [
    "prob = model.predict_proba(X_test_scaled[:20])\n",
    "np.set_printoptions(precision=4, suppress=True)\n",
    "prob"
   ]
  },
  {
   "cell_type": "code",
   "execution_count": 326,
   "metadata": {},
   "outputs": [],
   "source": [
    "y_pred = model.predict(X_test_scaled)\n",
    "\n",
    "output_df = pd.DataFrame(data=df_test['PassengerId'])\n",
    "output_df['Survived'] = y_pred\n",
    "output_df.to_csv('output.csv', index=False)"
   ]
  },
  {
   "cell_type": "code",
   "execution_count": null,
   "metadata": {},
   "outputs": [],
   "source": []
  },
  {
   "cell_type": "code",
   "execution_count": null,
   "metadata": {},
   "outputs": [],
   "source": []
  }
 ],
 "metadata": {
  "kernelspec": {
   "display_name": "Python 3 (ipykernel)",
   "language": "python",
   "name": "python3"
  },
  "language_info": {
   "codemirror_mode": {
    "name": "ipython",
    "version": 3
   },
   "file_extension": ".py",
   "mimetype": "text/x-python",
   "name": "python",
   "nbconvert_exporter": "python",
   "pygments_lexer": "ipython3",
   "version": "3.9.13"
  }
 },
 "nbformat": 4,
 "nbformat_minor": 2
}
