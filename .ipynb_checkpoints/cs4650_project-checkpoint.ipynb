{
 "cells": [
  {
   "cell_type": "code",
   "execution_count": 216,
   "metadata": {},
   "outputs": [],
   "source": [
    "%matplotlib inline\n",
    "import pandas as pd\n",
    "import numpy as np\n",
    "import matplotlib.pyplot as plt\n",
    "from math import exp\n",
    "from sklearn.model_selection import train_test_split\n",
    "from sklearn.linear_model import LogisticRegression\n",
    "from sklearn.preprocessing import scale\n",
    "from sklearn import preprocessing\n",
    "from sklearn.metrics import accuracy_score, classification_report, confusion_matrix, precision_recall_curve\n",
    "import seaborn as sns\n",
    "from scipy.stats import ttest_ind\n",
    "import matplotlib.colors as mcolors"
   ]
  },
  {
   "cell_type": "markdown",
   "metadata": {},
   "source": [
    "<h2>Data Preparation</h2>"
   ]
  },
  {
   "cell_type": "code",
   "execution_count": 217,
   "metadata": {},
   "outputs": [
    {
     "name": "stdout",
     "output_type": "stream",
     "text": [
      "<class 'pandas.core.frame.DataFrame'>\n",
      "RangeIndex: 891 entries, 0 to 890\n",
      "Data columns (total 12 columns):\n",
      " #   Column       Non-Null Count  Dtype  \n",
      "---  ------       --------------  -----  \n",
      " 0   PassengerId  891 non-null    int64  \n",
      " 1   Survived     891 non-null    int64  \n",
      " 2   Pclass       891 non-null    int64  \n",
      " 3   Name         891 non-null    object \n",
      " 4   Sex          891 non-null    object \n",
      " 5   Age          714 non-null    float64\n",
      " 6   SibSp        891 non-null    int64  \n",
      " 7   Parch        891 non-null    int64  \n",
      " 8   Ticket       891 non-null    object \n",
      " 9   Fare         891 non-null    float64\n",
      " 10  Cabin        204 non-null    object \n",
      " 11  Embarked     889 non-null    object \n",
      "dtypes: float64(2), int64(5), object(5)\n",
      "memory usage: 83.7+ KB\n",
      "<class 'pandas.core.frame.DataFrame'>\n",
      "RangeIndex: 418 entries, 0 to 417\n",
      "Data columns (total 11 columns):\n",
      " #   Column       Non-Null Count  Dtype  \n",
      "---  ------       --------------  -----  \n",
      " 0   PassengerId  418 non-null    int64  \n",
      " 1   Pclass       418 non-null    int64  \n",
      " 2   Name         418 non-null    object \n",
      " 3   Sex          418 non-null    object \n",
      " 4   Age          332 non-null    float64\n",
      " 5   SibSp        418 non-null    int64  \n",
      " 6   Parch        418 non-null    int64  \n",
      " 7   Ticket       418 non-null    object \n",
      " 8   Fare         417 non-null    float64\n",
      " 9   Cabin        91 non-null     object \n",
      " 10  Embarked     418 non-null    object \n",
      "dtypes: float64(2), int64(4), object(5)\n",
      "memory usage: 36.0+ KB\n"
     ]
    }
   ],
   "source": [
    "df = pd.read_csv('train.csv')\n",
    "df_test = pd.read_csv('test.csv')\n",
    "df.info()\n",
    "df_test.info()"
   ]
  },
  {
   "cell_type": "code",
   "execution_count": 218,
   "metadata": {},
   "outputs": [
    {
     "data": {
      "text/plain": [
       "0"
      ]
     },
     "execution_count": 218,
     "metadata": {},
     "output_type": "execute_result"
    }
   ],
   "source": [
    "sum(df.duplicated())\n",
    "sum(df_test.duplicated())"
   ]
  },
  {
   "cell_type": "markdown",
   "metadata": {},
   "source": [
    "Remove unwanted features: <br>\n",
    "<ul>\n",
    "    <li>Name (irrelevant to survival rate)</li>\n",
    "    <li>Ticket Number (irrelevant to survival rate)</li>\n",
    "    <li>Cabin Number (too many missing data)</li>\n",
    "    <li>PassengerId (only for indexing purposes)</li>\n",
    "</ul>"
   ]
  },
  {
   "cell_type": "code",
   "execution_count": 219,
   "metadata": {},
   "outputs": [],
   "source": [
    "df.drop('Name', axis = 1, inplace = True)\n",
    "df.drop('Cabin', axis = 1, inplace = True)\n",
    "df.drop('Ticket', axis = 1, inplace = True)\n",
    "df.drop('PassengerId', axis = 1, inplace = True)"
   ]
  },
  {
   "cell_type": "code",
   "execution_count": 220,
   "metadata": {},
   "outputs": [],
   "source": [
    "df_test.drop('Name', axis = 1, inplace = True)\n",
    "df_test.drop('Cabin', axis = 1, inplace = True)\n",
    "df_test.drop('Ticket', axis = 1, inplace = True)\n",
    "df_test.drop('PassengerId', axis = 1, inplace = True)"
   ]
  },
  {
   "cell_type": "markdown",
   "metadata": {},
   "source": [
    "Remove all rows with blank/ missing data from both dataframe"
   ]
  },
  {
   "cell_type": "code",
   "execution_count": 221,
   "metadata": {},
   "outputs": [
    {
     "name": "stdout",
     "output_type": "stream",
     "text": [
      "Num of removed rows from train dataset: 179\n",
      "Num of removed rows from test dataset: 87\n",
      "Num of rows of clean train dataset: 712\n",
      "Num of rows of clean test dataset: 331\n"
     ]
    }
   ],
   "source": [
    "num_rows_train = df.shape[0]\n",
    "num_rows_test = df_test.shape[0]\n",
    "\n",
    "df.dropna(inplace=True)\n",
    "df_test.dropna(inplace=True)\n",
    "\n",
    "num_rows_train_clean = df.shape[0]\n",
    "num_rows_test_clean = df_test.shape[0]\n",
    "\n",
    "print(\"Num of removed rows from train dataset: \" + str(num_rows_train - num_rows_train_clean))\n",
    "print(\"Num of removed rows from test dataset: \" + str(num_rows_test - num_rows_test_clean))\n",
    "print(\"Num of rows of clean train dataset: \" + str(num_rows_train_clean))\n",
    "print(\"Num of rows of clean test dataset: \" + str(num_rows_test_clean))"
   ]
  },
  {
   "cell_type": "markdown",
   "metadata": {},
   "source": [
    "Replace \"Sex\" and \"Embarked\" values to integer values"
   ]
  },
  {
   "cell_type": "code",
   "execution_count": 222,
   "metadata": {},
   "outputs": [],
   "source": [
    "df['Sex'] = df['Sex'].replace({'male': 0, 'female': 1})\n",
    "df['Embarked']= df['Embarked'].replace({'C': 0, 'Q': 1, 'S': 2})\n",
    "\n",
    "df_test['Sex'] = df_test['Sex'].replace({'male': 0, 'female': 1})\n",
    "df_test['Embarked']= df_test['Embarked'].replace({'C': 0, 'Q': 1, 'S': 2})"
   ]
  },
  {
   "cell_type": "code",
   "execution_count": 223,
   "metadata": {},
   "outputs": [],
   "source": [
    "y_train = df.Survived;\n",
    "X_train = df.iloc[:, df.columns != 'Survived']\n",
    "\n",
    "scaler = preprocessing.StandardScaler().fit(X_train)\n",
    "X_train_scaled = pd.DataFrame(scaler.transform(X_train), columns = X_train.columns)\n",
    "X_test_scaled = pd.DataFrame(scaler.transform(df_test), columns = df_test.columns)"
   ]
  },
  {
   "cell_type": "markdown",
   "metadata": {},
   "source": [
    "<h2>Building the Model, Training, and Prediction</h2>"
   ]
  },
  {
   "cell_type": "code",
   "execution_count": 224,
   "metadata": {},
   "outputs": [
    {
     "name": "stdout",
     "output_type": "stream",
     "text": [
      "The accuracy for the training set is 80.20%\n"
     ]
    }
   ],
   "source": [
    "model = LogisticRegression();\n",
    "model.fit(X_train_scaled, y_train)\n",
    "\n",
    "train_accuracy = model.score(X_train_scaled, y_train)\n",
    "print(f'The accuracy for the training set is {100 * train_accuracy:.2f}%')"
   ]
  },
  {
   "cell_type": "code",
   "execution_count": 225,
   "metadata": {},
   "outputs": [
    {
     "data": {
      "text/plain": [
       "array([[0.9087, 0.0913],\n",
       "       [0.6844, 0.3156],\n",
       "       [0.9059, 0.0941],\n",
       "       [0.8961, 0.1039],\n",
       "       [0.4417, 0.5583],\n",
       "       [0.8327, 0.1673],\n",
       "       [0.385 , 0.615 ],\n",
       "       [0.7848, 0.2152],\n",
       "       [0.2409, 0.7591],\n",
       "       [0.9293, 0.0707],\n",
       "       [0.6335, 0.3665],\n",
       "       [0.0606, 0.9394],\n",
       "       [0.9429, 0.0571],\n",
       "       [0.1553, 0.8447],\n",
       "       [0.1458, 0.8542],\n",
       "       [0.7543, 0.2457],\n",
       "       [0.8257, 0.1743],\n",
       "       [0.4822, 0.5178],\n",
       "       [0.4978, 0.5022],\n",
       "       [0.7058, 0.2942]])"
      ]
     },
     "execution_count": 225,
     "metadata": {},
     "output_type": "execute_result"
    }
   ],
   "source": [
    "prob = model.predict_proba(X_test_scaled[:20])\n",
    "np.set_printoptions(precision=4, suppress=True)\n",
    "prob"
   ]
  },
  {
   "cell_type": "code",
   "execution_count": 226,
   "metadata": {},
   "outputs": [],
   "source": [
    "y_pred = model.predict(X_test_scaled)\n",
    "prob = model.predict_proba(X_test_scaled)\n",
    "np.set_printoptions(precision=4, suppress=True)\n",
    "rounded_prob = np.round(prob[:,1], 3)\n",
    "\n",
    "df_test['Sex'] = df_test['Sex'].replace({0: 'male', 1: 'female'})\n",
    "df_test['Embarked']= df_test['Embarked'].replace({0: 'C', 1: 'Q', 2: 'S'})\n",
    "\n",
    "output_df = pd.DataFrame(data=df_test, columns = df_test.columns)\n",
    "output_df['Survived'] = y_pred\n",
    "output_df['Survival Rate'] = rounded_prob\n",
    "output_df.to_csv('output.csv', index=False)"
   ]
  },
  {
   "cell_type": "markdown",
   "metadata": {},
   "source": [
    "<h2>Most significant Features</h2>"
   ]
  },
  {
   "cell_type": "code",
   "execution_count": 227,
   "metadata": {},
   "outputs": [
    {
     "name": "stdout",
     "output_type": "stream",
     "text": [
      "    Feature      Coef  Abs_Coef\n",
      "1       Sex  1.239641  1.239641\n",
      "0    Pclass -0.995533  0.995533\n",
      "2       Age -0.611144  0.611144\n",
      "3     SibSp -0.325458  0.325458\n",
      "6  Embarked -0.135475  0.135475\n",
      "5      Fare  0.085026  0.085026\n",
      "4     Parch -0.047146  0.047146\n"
     ]
    }
   ],
   "source": [
    "coef = model.coef_\n",
    "coef_abs = np.abs(coef)\n",
    "coef_df = pd.DataFrame({'Feature': X.columns, 'Coef': coef[0], 'Abs_Coef': coef_abs[0]})\n",
    "coef_df = coef_df.sort_values('Abs_Coef', ascending=False)\n",
    "print(coef_df)"
   ]
  },
  {
   "cell_type": "code",
   "execution_count": null,
   "metadata": {},
   "outputs": [],
   "source": []
  }
 ],
 "metadata": {
  "kernelspec": {
   "display_name": "Python 3 (ipykernel)",
   "language": "python",
   "name": "python3"
  },
  "language_info": {
   "codemirror_mode": {
    "name": "ipython",
    "version": 3
   },
   "file_extension": ".py",
   "mimetype": "text/x-python",
   "name": "python",
   "nbconvert_exporter": "python",
   "pygments_lexer": "ipython3",
   "version": "3.9.13"
  }
 },
 "nbformat": 4,
 "nbformat_minor": 2
}
